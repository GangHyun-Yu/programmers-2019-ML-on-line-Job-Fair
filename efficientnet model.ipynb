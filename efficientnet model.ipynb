{
 "cells": [
  {
   "cell_type": "code",
   "execution_count": null,
   "metadata": {},
   "outputs": [],
   "source": [
    "!pip install -U git+https://github.com/qubvel/efficientnet"
   ]
  },
  {
   "cell_type": "code",
   "execution_count": null,
   "metadata": {
    "_cell_guid": "b1076dfc-b9ad-4769-8c92-a6c4dae69d19",
    "_uuid": "8f2839f25d086af736a60e9eeb907d3b93b6e0e5"
   },
   "outputs": [],
   "source": [
    "import os\n",
    "import numpy as np\n",
    "import pandas as pd\n",
    "\n",
    "import tensorflow as tf\n",
    "import keras\n",
    "\n",
    "from keras.preprocessing import image\n",
    "\n",
    "from keras.layers import Conv2D,Dropout,Dense,Flatten\n",
    "from keras.models import Sequential\n",
    "\n",
    "from keras.layers.advanced_activations import LeakyReLU\n",
    "from keras.models import Sequential, Model\n",
    "from keras.layers import Activation, Convolution2D, MaxPooling2D, BatchNormalization, Flatten, Dense, Dropout, Conv2D,MaxPool2D, ZeroPadding2D\n",
    "\n",
    "import efficientnet.keras as efn\n",
    "\n",
    "print(tf.__version__)"
   ]
  },
  {
   "cell_type": "code",
   "execution_count": null,
   "metadata": {},
   "outputs": [],
   "source": [
    "INPUT_PATH = '/kaggle/input'\n",
    "IMAGE_DIR = os.path.join(INPUT_PATH, 'faces_images/faces_images')\n",
    "TRAIN_CSV_PATH = os.path.join(INPUT_PATH, 'train_vision.csv')\n",
    "TEST_CSV_PATH = os.path.join(INPUT_PATH, 'test_vision.csv')\n",
    "\n",
    "os.listdir(INPUT_PATH)"
   ]
  },
  {
   "cell_type": "markdown",
   "metadata": {},
   "source": [
    "# Load Data"
   ]
  },
  {
   "cell_type": "code",
   "execution_count": null,
   "metadata": {},
   "outputs": [],
   "source": [
    "train_csv = pd.read_csv(TRAIN_CSV_PATH)\n",
    "test_csv = pd.read_csv(TEST_CSV_PATH)\n",
    "\n",
    "train_csv.head()"
   ]
  },
  {
   "cell_type": "code",
   "execution_count": null,
   "metadata": {},
   "outputs": [],
   "source": [
    "train_csv['label'].hist()"
   ]
  },
  {
   "cell_type": "code",
   "execution_count": null,
   "metadata": {
    "_cell_guid": "79c7e3d0-c299-4dcb-8224-4455121ee9b0",
    "_uuid": "d629ff2d2480ee46fbb7e2d37f6b5fab8052498a"
   },
   "outputs": [],
   "source": [
    "def load_image_array(image_path):\n",
    "    img = image.load_img(image_path, target_size=(128, 128))\n",
    "    image_array = image.img_to_array(img)\n",
    "    \n",
    "    return image_array\n",
    "    \n",
    "def load_image_data(filenames):\n",
    "    image_data = [load_image_array(os.path.join(IMAGE_DIR, filename)) for filename in filenames]\n",
    "    \n",
    "    return np.array(image_data).astype(float)/255."
   ]
  },
  {
   "cell_type": "code",
   "execution_count": null,
   "metadata": {},
   "outputs": [],
   "source": [
    "X_train = load_image_data(train_csv['filename'].values)\n",
    "y_train = pd.get_dummies(train_csv['label'].astype(str))"
   ]
  },
  {
   "cell_type": "code",
   "execution_count": null,
   "metadata": {},
   "outputs": [],
   "source": [
    "X_train.shape"
   ]
  },
  {
   "cell_type": "code",
   "execution_count": null,
   "metadata": {},
   "outputs": [],
   "source": [
    "y_train[:10]"
   ]
  },
  {
   "cell_type": "markdown",
   "metadata": {},
   "source": [
    "# Classify Y Data for Triple Model\n",
    "\n",
    "- glasses\n",
    "    - 0: [1, 3, 4, 6]\n",
    "    - 1: [2, 5]\n",
    "    \n",
    "    \n",
    "- age (children)\n",
    "    - 0: [1, 2, 4, 5]\n",
    "    - 1: [3, 6]\n",
    "    \n",
    "    \n",
    "- gender (femail)\n",
    "    - 0: [1, 2, 3]\n",
    "    - 1: [4, 5, 6]\n",
    "    \n",
    "    "
   ]
  },
  {
   "cell_type": "code",
   "execution_count": null,
   "metadata": {},
   "outputs": [],
   "source": [
    "for column in ['glasses', 'children', 'femail']:\n",
    "    y_train[column] = 0"
   ]
  },
  {
   "cell_type": "code",
   "execution_count": null,
   "metadata": {},
   "outputs": [],
   "source": [
    "y_train.loc[(y_train['2']==1) | (y_train['5']==1), 'glasses'] = 1\n",
    "y_train.loc[(y_train['3']==1) | (y_train['6']==1), 'children'] = 1\n",
    "y_train.loc[(y_train['4']==1) | (y_train['5']==1) | (y_train['6']==1), 'femail'] = 1\n",
    "\n",
    "y_train.head()"
   ]
  },
  {
   "cell_type": "code",
   "execution_count": null,
   "metadata": {},
   "outputs": [],
   "source": [
    "y_train_glasses = y_train['glasses']\n",
    "y_train_age = y_train['children']\n",
    "y_train_gender = y_train['femail']"
   ]
  },
  {
   "cell_type": "markdown",
   "metadata": {},
   "source": [
    "# Defining a Model"
   ]
  },
  {
   "cell_type": "markdown",
   "metadata": {},
   "source": [
    "- custom Keras model\n",
    "    - https://www.kaggle.com/karanjakhar/facial-keypoint-detection/notebook\n",
    "\n",
    "\n",
    "- Efficientnet\n",
    "    - https://github.com/titu1994/keras-efficientnets\n",
    "    - https://www.dlology.com/blog/transfer-learning-with-efficientnet/\n",
    "    - https://www.kaggle.com/mobassir/keras-efficientnetb2-for-classifying-cloud"
   ]
  },
  {
   "cell_type": "code",
   "execution_count": null,
   "metadata": {},
   "outputs": [],
   "source": [
    "def get_model(input_shape=(128,128,3)):\n",
    "    model = Sequential()\n",
    "\n",
    "    model.add(Convolution2D(32, (3,3), padding='same', use_bias=False, input_shape=input_shape))\n",
    "    model.add(LeakyReLU(alpha=0.1))\n",
    "    model.add(BatchNormalization())\n",
    "    \n",
    "    model.add(Convolution2D(32, (3,3), padding='same', use_bias=False))\n",
    "    model.add(LeakyReLU(alpha=0.1))\n",
    "    model.add(BatchNormalization())\n",
    "    model.add(MaxPool2D(pool_size=(2, 2)))\n",
    "\n",
    "    model.add(Convolution2D(64, (3,3), padding='same', use_bias=False))\n",
    "    model.add(LeakyReLU(alpha=0.1))\n",
    "    model.add(BatchNormalization())\n",
    "\n",
    "    model.add(Convolution2D(64, (3,3), padding='same', use_bias=False))\n",
    "    model.add(LeakyReLU(alpha=0.1))\n",
    "    model.add(BatchNormalization())\n",
    "    model.add(MaxPool2D(pool_size=(2, 2)))\n",
    "\n",
    "    model.add(Convolution2D(96, (3,3), padding='same', use_bias=False))\n",
    "    model.add(LeakyReLU(alpha=0.1))\n",
    "    model.add(BatchNormalization())\n",
    "\n",
    "    model.add(Convolution2D(96, (3,3), padding='same', use_bias=False))\n",
    "    model.add(LeakyReLU(alpha=0.1))\n",
    "    model.add(BatchNormalization())\n",
    "    model.add(MaxPool2D(pool_size=(2,2)))\n",
    "\n",
    "    model.add(Convolution2D(128, (3,3),padding='same', use_bias=False))\n",
    "    # model.add(BatchNormalization())\n",
    "    model.add(LeakyReLU(alpha=0.1))\n",
    "    model.add(BatchNormalization())\n",
    "\n",
    "    model.add(Convolution2D(128, (3,3),padding='same', use_bias=False))\n",
    "    model.add(LeakyReLU(alpha=0.1))\n",
    "    model.add(BatchNormalization())\n",
    "    model.add(MaxPool2D(pool_size=(2,2)))\n",
    "\n",
    "    model.add(Convolution2D(256, (3,3),padding='same',use_bias=False))\n",
    "    model.add(LeakyReLU(alpha=0.1))\n",
    "    model.add(BatchNormalization())\n",
    "\n",
    "    model.add(Convolution2D(256, (3,3),padding='same',use_bias=False))\n",
    "    model.add(LeakyReLU(alpha=0.1))\n",
    "    model.add(BatchNormalization())\n",
    "    model.add(MaxPool2D(pool_size=(2,2)))\n",
    "\n",
    "    model.add(Convolution2D(512, (3,3), padding='same', use_bias=False))\n",
    "    model.add(LeakyReLU(alpha=0.1))\n",
    "    model.add(BatchNormalization())\n",
    "    \n",
    "    model.add(Convolution2D(512, (3,3), padding='same', use_bias=False))\n",
    "    model.add(LeakyReLU(alpha=0.1))\n",
    "    model.add(BatchNormalization())\n",
    "    \n",
    "    model.add(Flatten())\n",
    "    model.add(Dense(512, activation='relu'))\n",
    "    model.add(Dropout(0.1))\n",
    "    model.add(Dense(128, activation='relu'))\n",
    "    model.add(Dropout(0.1))\n",
    "    model.add(Dense(1, activation='sigmoid'))\n",
    "    \n",
    "    model.compile(optimizer='adam',\n",
    "                  loss='binary_crossentropy',\n",
    "                  metrics=['accuracy'])\n",
    "    \n",
    "    return model\n"
   ]
  },
  {
   "cell_type": "code",
   "execution_count": null,
   "metadata": {},
   "outputs": [],
   "source": [
    "def get_model_efficient(input_shape=(128,128,3)):\n",
    "    base_model = efn.EfficientNetB5(weights='imagenet', include_top=False, input_shape=input_shape)\n",
    "    base_model.trainable = False\n",
    "    \n",
    "    x = base_model.output\n",
    "    x = Flatten()(x)\n",
    "    x = Dense(1024, activation=\"relu\")(x)\n",
    "    x = Dropout(0.5)(x)\n",
    "    \n",
    "    #y_pred = Dense(6, activation=\"softmax\")(x)\n",
    "    y_pred = Dense(1, activation=\"sigmoid\")(x)\n",
    "    \n",
    "    #loss = 'categorical_crossentropy'\n",
    "    loss = 'binary_crossentropy'\n",
    "    \n",
    "    model = Model(input=base_model.input, output=y_pred)\n",
    "    \n",
    "    for base_layer in model.layers[:-3]:\n",
    "        base_layer.trainable = True\n",
    "        \n",
    "    model.compile(optimizer='adam',\n",
    "                  loss=loss,\n",
    "                  metrics=['accuracy'])\n",
    "    \n",
    "    \n",
    "    return model\n"
   ]
  },
  {
   "cell_type": "code",
   "execution_count": null,
   "metadata": {},
   "outputs": [],
   "source": [
    "model_glasses = get_model_efficient()\n",
    "model_age = get_model_efficient()\n",
    "model_gender = get_model_efficient()"
   ]
  },
  {
   "cell_type": "markdown",
   "metadata": {},
   "source": [
    "# Train"
   ]
  },
  {
   "cell_type": "code",
   "execution_count": null,
   "metadata": {},
   "outputs": [],
   "source": [
    "models = [model_glasses, model_age, model_gender]\n",
    "y_trains = [y_train_glasses, y_train_age, y_train_gender]\n",
    "\n",
    "for i in range(3):\n",
    "    models[i].fit(X_train, y_trains[i], \n",
    "                  epochs=1, batch_size=32, validation_split=0.2)"
   ]
  },
  {
   "cell_type": "code",
   "execution_count": null,
   "metadata": {},
   "outputs": [],
   "source": [
    "model_gender.fit(X_train, y_train_gender, \n",
    "                 epochs=1, batch_size=32, validation_split=0.2)"
   ]
  },
  {
   "cell_type": "markdown",
   "metadata": {},
   "source": [
    "# Test for Submission"
   ]
  },
  {
   "cell_type": "code",
   "execution_count": null,
   "metadata": {},
   "outputs": [],
   "source": [
    "X_test = load_image_data(test_csv['filename'].values)"
   ]
  },
  {
   "cell_type": "code",
   "execution_count": null,
   "metadata": {},
   "outputs": [],
   "source": [
    "predict_glasses = model_glasses.predict(X_test).reshape(-1)\n",
    "predict_age = model_age.predict(X_test).reshape(-1)\n",
    "predict_gender = model_gender.predict(X_test).reshape(-1)"
   ]
  },
  {
   "cell_type": "code",
   "execution_count": null,
   "metadata": {},
   "outputs": [],
   "source": [
    "y_pred = pd.DataFrame({'glass': list(predict_glasses), \n",
    "                       'children': list(predict_age), \n",
    "                       'femail': list(predict_gender)})\n",
    "y_pred"
   ]
  },
  {
   "cell_type": "code",
   "execution_count": null,
   "metadata": {},
   "outputs": [],
   "source": [
    "y_pred['predict'] = 0\n",
    "\n",
    "y_pred.loc[(y_pred['glass']<0.5)&(y_pred['children']<0.5)&(y_pred['femail']<0.5), 'predict'] = 1\n",
    "y_pred.loc[(y_pred['glass']>=0.5)&(y_pred['children']<0.5)&(y_pred['femail']<0.5), 'predict'] = 2\n",
    "y_pred.loc[(y_pred['glass']>=0.5)&(y_pred['children']>=0.5)&(y_pred['femail']<0.5), 'predict'] = 2\n",
    "y_pred.loc[(y_pred['glass']<0.5)&(y_pred['children']>=0.5)&(y_pred['femail']<0.5), 'predict'] = 3\n",
    "\n",
    "y_pred.loc[(y_pred['glass']<0.5)&(y_pred['children']<0.5)&(y_pred['femail']>=0.5), 'predict'] = 4\n",
    "y_pred.loc[(y_pred['glass']>=0.5)&(y_pred['children']<0.5)&(y_pred['femail']>=0.5), 'predict'] = 5\n",
    "y_pred.loc[(y_pred['glass']>=0.5)&(y_pred['children']>=0.5)&(y_pred['femail']>=0.5), 'predict'] = 5\n",
    "y_pred.loc[(y_pred['glass']<0.5)&(y_pred['children']>=0.5)&(y_pred['femail']>=0.5), 'predict'] = 6\n",
    "\n",
    "y_pred.head(50)"
   ]
  },
  {
   "cell_type": "code",
   "execution_count": null,
   "metadata": {},
   "outputs": [],
   "source": [
    "submit = pd.DataFrame({'prediction': y_pred['predict'].values})\n",
    "submit"
   ]
  },
  {
   "cell_type": "code",
   "execution_count": null,
   "metadata": {},
   "outputs": [],
   "source": [
    "submit.to_csv('submission_19.csv', index=False)"
   ]
  },
  {
   "cell_type": "markdown",
   "metadata": {},
   "source": [
    "---\n",
    "# Public Score History\n",
    "1. 83.25 (single model)\n",
    "2. 85.50\n",
    "3. 87.50 (triple model)\n",
    "4. 87.50\n",
    "5. 87.50\n",
    "6. 87.50\n",
    "7. 87.25 (threshold 0.4)\n",
    "8. 84.00\n",
    "9. 84.25\n",
    "10. 84.00\n",
    "11. 09.00\n",
    "12. 86.50\n",
    "13. 85.50 (single efficientnet B0)\n",
    "14. 89.25 (single efficientnet B7)\n",
    "15. 86.75 (triple efficientnet B0)\n",
    "16. 88.25\n",
    "17. 87.50\n",
    "18. 88.00\n",
    "19. 88.00 (triple efficientnet B5)"
   ]
  }
 ],
 "metadata": {
  "kernelspec": {
   "display_name": "Python 3",
   "language": "python",
   "name": "python3"
  },
  "language_info": {
   "codemirror_mode": {
    "name": "ipython",
    "version": 3
   },
   "file_extension": ".py",
   "mimetype": "text/x-python",
   "name": "python",
   "nbconvert_exporter": "python",
   "pygments_lexer": "ipython3",
   "version": "3.7.1"
  }
 },
 "nbformat": 4,
 "nbformat_minor": 1
}
